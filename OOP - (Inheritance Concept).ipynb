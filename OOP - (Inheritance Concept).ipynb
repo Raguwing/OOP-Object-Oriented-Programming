{
 "cells": [
  {
   "cell_type": "markdown",
   "id": "f0a29591",
   "metadata": {},
   "source": [
    "# Inheritance in OOP"
   ]
  },
  {
   "cell_type": "markdown",
   "id": "1f255af0",
   "metadata": {},
   "source": [
    "> The ability of a class to derive properties from another class and perform the operations that can be done by that class.\n",
    "\n",
    "**Benifits?**\n",
    "* It represents relationships between classes to solve real-world problems\n",
    "* It provides an efficient way of reusability of code from different classes and it also allows us to add more features, methods to our class without even modifiying it."
   ]
  },
  {
   "cell_type": "markdown",
   "id": "d9bead5c",
   "metadata": {},
   "source": [
    "### Types of Inheritance:\n",
    "1. Single Inheritance\n",
    "2. Multiple Inheritance\n",
    "3. Multi-level Inheritance\n",
    "4. Hirarchical Inheritance\n",
    "5. Hybrid Inheritacne:\n",
    "> A combination all above also called (MRO - Method Resolution Order), In hybrid inheritance, always the methods are resolved Depth first and Left to Right."
   ]
  },
  {
   "cell_type": "markdown",
   "id": "555aaef1",
   "metadata": {},
   "source": [
    "### Additional:\n",
    "**You can use `super()` to access the constructor and methods of parent class.**"
   ]
  },
  {
   "cell_type": "code",
   "execution_count": 4,
   "id": "b41550a8",
   "metadata": {},
   "outputs": [],
   "source": [
    "from IPython.core.interactiveshell import InteractiveShell\n",
    "InteractiveShell.ast_node_interactivity='all'"
   ]
  },
  {
   "cell_type": "markdown",
   "id": "26e1fcdf",
   "metadata": {},
   "source": [
    "## 1. Single Inheritance"
   ]
  },
  {
   "cell_type": "code",
   "execution_count": 5,
   "id": "5c8d558e",
   "metadata": {},
   "outputs": [],
   "source": [
    "# building the class\n",
    "class one:\n",
    "    def method_1(self):\n",
    "        print('This is method one')\n",
    "    def method_2(self):\n",
    "        print('This is method two')\n",
    "class two(one):\n",
    "    def method_3(self):\n",
    "        print('This is method three')\n"
   ]
  },
  {
   "cell_type": "code",
   "execution_count": 6,
   "id": "cb0dbb06",
   "metadata": {},
   "outputs": [],
   "source": [
    "# Object Creations \n",
    "obj = one()\n",
    "obj_1 = two()"
   ]
  },
  {
   "cell_type": "code",
   "execution_count": 9,
   "id": "c8a3d7c7",
   "metadata": {},
   "outputs": [
    {
     "name": "stdout",
     "output_type": "stream",
     "text": [
      "This is method one\n",
      "This is method two\n",
      "\n",
      "This is method one\n",
      "This is method two\n",
      "This is method three\n"
     ]
    }
   ],
   "source": [
    "# object of class one has its two methods\n",
    "obj.method_1()\n",
    "obj.method_2()\n",
    "\n",
    "print()\n",
    "# object of class two has method three of its and also methods of class one\n",
    "obj_1.method_1()\n",
    "obj_1.method_2()\n",
    "obj_1.method_3()"
   ]
  },
  {
   "cell_type": "markdown",
   "id": "c43ea2ad",
   "metadata": {},
   "source": [
    "## Multiple Inheritance"
   ]
  },
  {
   "cell_type": "code",
   "execution_count": null,
   "id": "2ea2557b",
   "metadata": {},
   "outputs": [],
   "source": [
    "'''Single child class inheriting from multiple parent classes, here the class which inherites is the child class \n",
    "and the class from which it has been derived is the parent class'''"
   ]
  },
  {
   "cell_type": "code",
   "execution_count": 10,
   "id": "c340b86a",
   "metadata": {},
   "outputs": [],
   "source": [
    "# building the class\n",
    "class three:\n",
    "    def method_4(self):\n",
    "        print('this is method four')\n",
    "class four:\n",
    "    def method_5(self):\n",
    "        print('this is method five')\n",
    "        \n",
    "class five(three,four):\n",
    "    def method_6(self):\n",
    "        print('this is method six')"
   ]
  },
  {
   "cell_type": "code",
   "execution_count": 11,
   "id": "719c7de0",
   "metadata": {},
   "outputs": [],
   "source": [
    "# Object creations and testing\n",
    "obj_2 = three()\n",
    "obj_3 = four()\n",
    "obj_4 = five()"
   ]
  },
  {
   "cell_type": "code",
   "execution_count": 14,
   "id": "a7f9e964",
   "metadata": {},
   "outputs": [
    {
     "name": "stdout",
     "output_type": "stream",
     "text": [
      "this is method four\n",
      "this is method five\n",
      "\n",
      "this is method four\n",
      "this is method five\n",
      "this is method six\n"
     ]
    }
   ],
   "source": [
    "obj_2.method_4()\n",
    "obj_3.method_5()\n",
    "print()\n",
    "obj_4.method_4() \n",
    "obj_4.method_5()\n",
    "obj_4.method_6()"
   ]
  },
  {
   "cell_type": "markdown",
   "id": "1189ccfe",
   "metadata": {},
   "source": [
    "## Multi-Level Inheritance"
   ]
  },
  {
   "cell_type": "code",
   "execution_count": null,
   "id": "bfa13faf",
   "metadata": {},
   "outputs": [],
   "source": [
    "'''Let me explain in simple words, consider three classes the 1st class will be the parent class of 2nd \n",
    "since the 2nd class inherites the 1st class and the 2nd class will be the parent class of 3rd class \n",
    "since the 3rd class inherites from the 2nd class and so on.....one inheriting the other and the other...'''"
   ]
  },
  {
   "cell_type": "code",
   "execution_count": 15,
   "id": "e6f5ab29",
   "metadata": {},
   "outputs": [],
   "source": [
    "# building the class\n",
    "class six:\n",
    "    def method_7(self):\n",
    "        print('this is method seven')\n",
    "class seven(six):\n",
    "    def method_8(self):\n",
    "        print('this is method eight')\n",
    "\n",
    "class eight(seven):\n",
    "    def method_9(self):\n",
    "        print('this is method nine')\n",
    "        "
   ]
  },
  {
   "cell_type": "code",
   "execution_count": 16,
   "id": "18779bcb",
   "metadata": {},
   "outputs": [],
   "source": [
    "# object creations \n",
    "obj_5 = six()\n",
    "obj_6 = seven()\n",
    "obj_7 = eight()"
   ]
  },
  {
   "cell_type": "code",
   "execution_count": 17,
   "id": "9ddd5b6a",
   "metadata": {},
   "outputs": [
    {
     "name": "stdout",
     "output_type": "stream",
     "text": [
      "this is method seven\n",
      "\n",
      "this is method seven\n",
      "this is method eight\n",
      "\n",
      "this is method seven\n",
      "this is method eight\n",
      "this is method nine\n"
     ]
    }
   ],
   "source": [
    "obj_5.method_7()\n",
    "print()\n",
    "obj_6.method_7()\n",
    "obj_6.method_8()\n",
    "print()\n",
    "obj_7.method_7()\n",
    "obj_7.method_8()\n",
    "obj_7.method_9()"
   ]
  },
  {
   "cell_type": "markdown",
   "id": "ec6c0c95",
   "metadata": {},
   "source": [
    "## Hierarchical Inheritance"
   ]
  },
  {
   "cell_type": "code",
   "execution_count": null,
   "id": "24585c41",
   "metadata": {},
   "outputs": [],
   "source": [
    "'''This is simple, you have two child classes those are inheriting from a single parent class'''"
   ]
  },
  {
   "cell_type": "code",
   "execution_count": 18,
   "id": "3037acd1",
   "metadata": {},
   "outputs": [],
   "source": [
    "# building the class\n",
    "class nine:\n",
    "    def method_10(self):\n",
    "        print('this is method ten')\n",
    "class ten(nine):\n",
    "    def method_11(self):\n",
    "        print('this is method eleven')\n",
    "class eleven(nine):\n",
    "    def method_12(self):\n",
    "        print('this is method twelve')"
   ]
  },
  {
   "cell_type": "code",
   "execution_count": 19,
   "id": "0f52efe5",
   "metadata": {},
   "outputs": [],
   "source": [
    "# object creations\n",
    "obj_8 = nine()\n",
    "obj_9 = ten()\n",
    "obj_10 = eleven()"
   ]
  },
  {
   "cell_type": "code",
   "execution_count": 20,
   "id": "7f38d09d",
   "metadata": {},
   "outputs": [
    {
     "name": "stdout",
     "output_type": "stream",
     "text": [
      "this is method ten\n",
      "\n",
      "this is method ten\n",
      "this is method eleven\n",
      "\n",
      "this is method ten\n",
      "this is method twelve\n"
     ]
    }
   ],
   "source": [
    "obj_8.method_10()\n",
    "print()\n",
    "obj_9.method_10()\n",
    "obj_9.method_11()\n",
    "print()\n",
    "obj_10.method_10()\n",
    "obj_10.method_12()"
   ]
  },
  {
   "cell_type": "markdown",
   "id": "24e8045b",
   "metadata": {},
   "source": [
    "## Hybrid Inheritance"
   ]
  },
  {
   "cell_type": "code",
   "execution_count": 23,
   "id": "26988fbd",
   "metadata": {},
   "outputs": [],
   "source": [
    "# building the class\n",
    "class twelve:\n",
    "    def method_13(self):\n",
    "        print('this is method thirteen')\n",
    "class thirteen(twelve):\n",
    "    def method_14(self):\n",
    "        print('this is method fourteen') # class thirteen and fourteen inherites from twelve (hirarchical) and \n",
    "                                         # class fifteen inherites from both thirteen and fourteen (multiple)\n",
    "class fourteen(twelve):\n",
    "    def method_15(self):\n",
    "        print('this is method fifteen')\n",
    "\n",
    "class fifteen(thirteen,fourteen):\n",
    "    def method_16(self):\n",
    "        print('this is method sixteen')\n",
    "        "
   ]
  },
  {
   "cell_type": "code",
   "execution_count": 24,
   "id": "2f795bd7",
   "metadata": {},
   "outputs": [],
   "source": [
    "# object creations\n",
    "obj_11 = twelve()\n",
    "obj_12 = thirteen()\n",
    "obj_13 = fourteen()\n",
    "obj_14 = fifteen()"
   ]
  },
  {
   "cell_type": "code",
   "execution_count": 25,
   "id": "fb3e18d8",
   "metadata": {},
   "outputs": [
    {
     "name": "stdout",
     "output_type": "stream",
     "text": [
      "this is method thirteen\n",
      "\n",
      "this is method thirteen\n",
      "this is method fourteen\n",
      "\n",
      "this is method thirteen\n",
      "this is method fifteen\n",
      "\n",
      "this is method thirteen\n",
      "this is method fourteen\n",
      "this is method fifteen\n",
      "this is method sixteen\n"
     ]
    }
   ],
   "source": [
    "obj_11.method_13()\n",
    "print()\n",
    "obj_12.method_13()\n",
    "obj_12.method_14()\n",
    "print()\n",
    "obj_13.method_13()\n",
    "obj_13.method_15()\n",
    "print()\n",
    "obj_14.method_13()\n",
    "obj_14.method_14()\n",
    "obj_14.method_15()\n",
    "obj_14.method_16()"
   ]
  },
  {
   "cell_type": "code",
   "execution_count": 28,
   "id": "e9de21e2",
   "metadata": {},
   "outputs": [
    {
     "name": "stdout",
     "output_type": "stream",
     "text": [
      "[<class '__main__.twelve'>, <class 'object'>]\n",
      "[<class '__main__.thirteen'>, <class '__main__.twelve'>, <class 'object'>]\n",
      "[<class '__main__.fourteen'>, <class '__main__.twelve'>, <class 'object'>]\n",
      "[<class '__main__.fifteen'>, <class '__main__.thirteen'>, <class '__main__.fourteen'>, <class '__main__.twelve'>, <class 'object'>]\n"
     ]
    }
   ],
   "source": [
    "# lets print the mro\n",
    "print(twelve.mro())\n",
    "print(thirteen.mro())\n",
    "print(fourteen.mro())\n",
    "print(fifteen.mro())"
   ]
  },
  {
   "cell_type": "markdown",
   "id": "f558ca50",
   "metadata": {},
   "source": [
    "## Super() class"
   ]
  },
  {
   "cell_type": "code",
   "execution_count": null,
   "id": "f3fbfe82",
   "metadata": {},
   "outputs": [],
   "source": [
    "'''It is used to access the  constructor and methods of parent class inside the child class.'''"
   ]
  },
  {
   "cell_type": "code",
   "execution_count": 29,
   "id": "dcad4f59",
   "metadata": {},
   "outputs": [],
   "source": [
    "# class building\n",
    "class A:\n",
    "    def m1(self):\n",
    "        print('Class-A - Method-1')\n",
    "    def m2(self):\n",
    "        print('Class-A - Method-2')\n",
    "        \n",
    "class B(A):\n",
    "    def m3(self):\n",
    "        super().m1()\n",
    "        print('Class-B - Method-3')\n",
    "    def m4(self):\n",
    "        super().m2()\n",
    "        print('Class-B - Method-4')"
   ]
  },
  {
   "cell_type": "code",
   "execution_count": 30,
   "id": "04ae0975",
   "metadata": {},
   "outputs": [],
   "source": [
    "# object creation\n",
    "obj1 = A()\n",
    "obj2 = B()"
   ]
  },
  {
   "cell_type": "code",
   "execution_count": 31,
   "id": "2f82d723",
   "metadata": {},
   "outputs": [
    {
     "name": "stdout",
     "output_type": "stream",
     "text": [
      "Class-A - Method-1\n",
      "Class-A - Method-2\n"
     ]
    }
   ],
   "source": [
    "obj1.m1()\n",
    "obj1.m2()"
   ]
  },
  {
   "cell_type": "code",
   "execution_count": 33,
   "id": "5f75170d",
   "metadata": {},
   "outputs": [
    {
     "name": "stdout",
     "output_type": "stream",
     "text": [
      "Class-A - Method-1\n",
      "Class-B - Method-3\n",
      "\n",
      "Class-A - Method-2\n",
      "Class-B - Method-4\n"
     ]
    }
   ],
   "source": [
    "obj2.m3()\n",
    "print()\n",
    "obj2.m4()"
   ]
  },
  {
   "cell_type": "markdown",
   "id": "b4ca0d28",
   "metadata": {},
   "source": [
    "## The END ##"
   ]
  },
  {
   "cell_type": "code",
   "execution_count": null,
   "id": "55c9a7f9",
   "metadata": {},
   "outputs": [],
   "source": []
  }
 ],
 "metadata": {
  "kernelspec": {
   "display_name": "Python 3 (ipykernel)",
   "language": "python",
   "name": "python3"
  },
  "language_info": {
   "codemirror_mode": {
    "name": "ipython",
    "version": 3
   },
   "file_extension": ".py",
   "mimetype": "text/x-python",
   "name": "python",
   "nbconvert_exporter": "python",
   "pygments_lexer": "ipython3",
   "version": "3.11.4"
  }
 },
 "nbformat": 4,
 "nbformat_minor": 5
}
